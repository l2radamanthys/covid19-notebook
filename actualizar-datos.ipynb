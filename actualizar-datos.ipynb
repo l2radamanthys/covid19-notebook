{
 "cells": [
  {
   "cell_type": "code",
   "execution_count": 1,
   "metadata": {},
   "outputs": [],
   "source": [
    "import requests\n",
    "from bs4 import BeautifulSoup\n",
    "import os\n",
    "import datetime as dt"
   ]
  },
  {
   "cell_type": "code",
   "execution_count": 2,
   "metadata": {},
   "outputs": [],
   "source": [
    "url = 'https://ourworldindata.org/coronavirus-source-data'\n",
    "file_url = 'https://covid.ourworldindata.org/data/owid-covid-data.csv'\n",
    "data_file = 'owid-covid-data.csv'"
   ]
  },
  {
   "cell_type": "code",
   "execution_count": 3,
   "metadata": {},
   "outputs": [],
   "source": [
    "def file_last_update(filename):\n",
    "    (mode, ino, dev, nlink, uid, gid, size, atime, mtime, ctime) = os.stat(data_file)\n",
    "    return dt.datetime.fromtimestamp(ctime)"
   ]
  },
  {
   "cell_type": "code",
   "execution_count": 4,
   "metadata": {},
   "outputs": [],
   "source": [
    "def download_datafile():\n",
    "    response = requests.get(file_url, allow_redirects=True)\n",
    "    open(data_file, 'wb').write(response.content)\n",
    "    print('Data update complete')"
   ]
  },
  {
   "cell_type": "code",
   "execution_count": 5,
   "metadata": {},
   "outputs": [],
   "source": [
    "def data_last_update():\n",
    "    response = requests.get(url)\n",
    "    soup = BeautifulSoup(response.text, 'html.parser')\n",
    "    date_str = soup.find_all('div', { 'class': 'last-updated'})[0].find('strong').text\n",
    "    date = dt.datetime.strptime(date_str, '%B %d, %Y')\n",
    "    return date"
   ]
  },
  {
   "cell_type": "code",
   "execution_count": 7,
   "metadata": {},
   "outputs": [
    {
     "name": "stdout",
     "output_type": "stream",
     "text": [
      "Local last update: 19-04-2020\n",
      "Server last update: 19-04-2020\n",
      "Covid19 Data is updated\n"
     ]
    }
   ],
   "source": [
    "if os.path.exists(data_file):\n",
    "    file_date = file_last_update(data_file)\n",
    "    server_date = data_last_update()\n",
    "    print(\"Local last update:\", file_date.strftime(\"%d-%m-%Y\"))\n",
    "    print(\"Server last update:\", server_date.strftime(\"%d-%m-%Y\"))\n",
    "    if file_date < server_date:\n",
    "        download_datafile()\n",
    "    else:\n",
    "        print(\"Covid19 Data is updated\")\n",
    "else:\n",
    "    download_datafile()"
   ]
  },
  {
   "cell_type": "code",
   "execution_count": null,
   "metadata": {},
   "outputs": [],
   "source": []
  }
 ],
 "metadata": {
  "kernelspec": {
   "display_name": "Python 3",
   "language": "python",
   "name": "python3"
  },
  "language_info": {
   "codemirror_mode": {
    "name": "ipython",
    "version": 3
   },
   "file_extension": ".py",
   "mimetype": "text/x-python",
   "name": "python",
   "nbconvert_exporter": "python",
   "pygments_lexer": "ipython3",
   "version": "3.6.8"
  }
 },
 "nbformat": 4,
 "nbformat_minor": 4
}
